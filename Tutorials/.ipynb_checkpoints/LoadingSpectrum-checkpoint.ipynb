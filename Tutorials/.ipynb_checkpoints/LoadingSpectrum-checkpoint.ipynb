{
 "cells": [
  {
   "cell_type": "markdown",
   "id": "79c0b952",
   "metadata": {},
   "source": [
    "# Loading and plotting a spectrum"
   ]
  },
  {
   "cell_type": "markdown",
   "id": "983e5c0c",
   "metadata": {},
   "source": [
    "In this tutorial, we show how to use the `wrap_xspec` package to open a spectrum. \n",
    "\n",
    "Note: in order for this to work, you need to have pyXspec installed on your local computer. This means that these tutorials will not work on e.g. Google Colab, unfortunatly. "
   ]
  },
  {
   "cell_type": "code",
   "execution_count": 1,
   "id": "7a46a17d",
   "metadata": {},
   "outputs": [],
   "source": [
    "#------\n",
    "# pyXspec import block\n",
    "# This is necessary for the pyXspec output to be displayed in a jupyter notebook.\n",
    "%load_ext wurlitzer\n",
    "import IPython.display\n",
    "# Note: for this to work with VScode, you need to have initialized \n",
    "# heasoft directly in the zshrc (or bashrc) using an alias didn't seem to work.\n",
    "# If using a classical jupyter that has been lauched from a terminal in which heasoft \n",
    "# was initialized with an alias, then the direct initializing in zshrc is not necessary.\n",
    "import xspec\n",
    "#------\n",
    "#xspec.Xset.allowPrompting = False # keeps pyxspec from hanging, waiting for a response to a prompt\n",
    "\n",
    "import wrap_xspec as wx\n",
    "\n",
    "import os\n",
    "import matplotlib.pyplot as plt"
   ]
  },
  {
   "cell_type": "markdown",
   "id": "c689b4bc",
   "metadata": {},
   "source": [
    "`pyXspec` seems to have some difficulty with paths (e.g. if your spectrum is in a different directory than the notebook you are working from). Therefore `wrap_xspec` provides a wrapper that will use the `os` package to move to the path of the spectrum you would like to load and bring you back to the current directory. "
   ]
  },
  {
   "cell_type": "code",
   "execution_count": 2,
   "id": "cc65b66c",
   "metadata": {},
   "outputs": [
    {
     "name": "stdout",
     "output_type": "stream",
     "text": [
      "Current path: /Users/vpetit/ASTRO/2-Areas/CodesToMaintain/wrap_xspec/Tutorials\n",
      "Moving to /Users/vpetit/ASTRO/2-Areas/CodesToMaintain/wrap_xspec/Tutorials/InputData\n",
      "Warning: RMF DETNAM keyword (ACIS-7) is not consistent with that in spectrum (ACIS-567)\n",
      "\n",
      "1 spectrum  in use\n",
      " \n",
      "Spectral Data File: Dash2_acisf14571_grpSNR3.pi  Spectrum 1\n",
      "Net count rate (cts/s) for Spectrum:1  8.410e-03 +/- 4.238e-04 (95.0 % total)\n",
      " Assigned to Data Group 1 and Plot Group 1\n",
      "  Noticed Channels:  1-399\n",
      "  Telescope: CHANDRA Instrument: ACIS  Channel Type: PI\n",
      "  Exposure Time: 4.946e+04 sec\n",
      " Using fit statistic: chi\n",
      " Using Background File                Dash2_acisf14571_bkg.pi\n",
      "  Background Exposure Time: 4.946e+04 sec\n",
      " Using Response (RMF) File            Dash2_acisf14571.rmf for Source 1\n",
      " Using Auxiliary Response (ARF) File  Dash2_acisf14571.corr.arf\n",
      "\n",
      "Net count rate (cts/s) for Spectrum:1  8.410e-03 +/- 4.238e-04 (95.0 % total)\n",
      "Warning: RMF DETNAM keyword (ACIS-7) is not consistent with that in spectrum (ACIS-567)\n",
      "Response successfully loaded.\n",
      "Arf successfully loaded.\n",
      "Spectrum 1  Spectral Data File: Dash2_acisf14571_grpSNR3.pi\n",
      "Net count rate (cts/s) for Spectrum:1  8.410e-03 +/- 4.238e-04 (95.0 % total)\n",
      " Assigned to Data Group 1 and Plot Group 1\n",
      "  Noticed Channels:  1-399\n",
      "  Telescope: CHANDRA Instrument: ACIS  Channel Type: PI\n",
      "  Exposure Time: 4.946e+04 sec\n",
      " Using fit statistic: chi\n",
      " Using Background File                Dash2_acisf14571_bkg.pi\n",
      "  Background Exposure Time: 4.946e+04 sec\n",
      " Using Response (RMF) File            Dash2_acisf14571.rmf for Source 1\n",
      " Using Auxiliary Response (ARF) File  Dash2_acisf14571.corr.arf\n",
      "\n",
      " Spectral data counts: 438\n",
      " Model predicted rate: 0.0\n",
      "\n",
      "Moving back /Users/vpetit/ASTRO/2-Areas/CodesToMaintain/wrap_xspec/Tutorials\n",
      "Current path: /Users/vpetit/ASTRO/2-Areas/CodesToMaintain/wrap_xspec/Tutorials\n",
      "Moving to /Users/vpetit/ASTRO/2-Areas/CodesToMaintain/wrap_xspec/Tutorials/InputData\n",
      "Warning: RMF DETNAM keyword (ACIS-7) is not consistent with that in spectrum (ACIS-567)\n",
      "\n",
      "2 spectra  in use\n",
      " \n",
      "Spectral Data File: Dash2_acisf14572_grpSNR3.pi  Spectrum 2\n",
      "Net count rate (cts/s) for Spectrum:2  5.857e-03 +/- 3.580e-04 (92.9 % total)\n",
      " Assigned to Data Group 1 and Plot Group 2\n",
      "  Noticed Channels:  1-389\n",
      "  Telescope: CHANDRA Instrument: ACIS  Channel Type: PI\n",
      "  Exposure Time: 4.946e+04 sec\n",
      " Using fit statistic: chi\n",
      " Using Background File                Dash2_acisf14572_bkg.pi\n",
      "  Background Exposure Time: 4.946e+04 sec\n",
      " Using Response (RMF) File            Dash2_acisf14572.rmf for Source 1\n",
      " Using Auxiliary Response (ARF) File  Dash2_acisf14572.corr.arf\n",
      "\n",
      "Net count rate (cts/s) for Spectrum:2  5.857e-03 +/- 3.580e-04 (92.9 % total)\n",
      "Warning: RMF DETNAM keyword (ACIS-7) is not consistent with that in spectrum (ACIS-567)\n",
      "Response successfully loaded.\n",
      "Arf successfully loaded.\n",
      "Spectrum 2  Spectral Data File: Dash2_acisf14572_grpSNR3.pi\n",
      "Net count rate (cts/s) for Spectrum:2  5.857e-03 +/- 3.580e-04 (92.9 % total)\n",
      " Assigned to Data Group 1 and Plot Group 2\n",
      "  Noticed Channels:  1-389\n",
      "  Telescope: CHANDRA Instrument: ACIS  Channel Type: PI\n",
      "  Exposure Time: 4.946e+04 sec\n",
      " Using fit statistic: chi\n",
      " Using Background File                Dash2_acisf14572_bkg.pi\n",
      "  Background Exposure Time: 4.946e+04 sec\n",
      " Using Response (RMF) File            Dash2_acisf14572.rmf for Source 1\n",
      " Using Auxiliary Response (ARF) File  Dash2_acisf14572.corr.arf\n",
      "\n",
      " Spectral data counts: 312\n",
      " Model predicted rate: 0.0\n",
      "\n",
      "Moving back /Users/vpetit/ASTRO/2-Areas/CodesToMaintain/wrap_xspec/Tutorials\n"
     ]
    }
   ],
   "source": [
    "# First, clearing our the spectra and models that might already be in xspec\n",
    "# Useful if you are running cells multiple times\n",
    "xspec.AllData.clear()\n",
    "xspec.AllModels.clear()\n",
    "\n",
    "my_spec1 = wx.spectrum('InputData',\n",
    "             'Dash2_acisf14571_grpSNR3.pi', 'Dash2_acisf14571_bkg.pi',\n",
    "             'Dash2_acisf14571.rmf', 'Dash2_acisf14571.corr.arf')\n",
    "spec1 = my_spec1.xspec_load()\n",
    "\n",
    "my_spec2 = wx.spectrum('InputData',\n",
    "             'Dash2_acisf14572_grpSNR3.pi', 'Dash2_acisf14572_bkg.pi',\n",
    "             'Dash2_acisf14572.rmf', 'Dash2_acisf14572.corr.arf')\n",
    "spec2 = my_spec2.xspec_load()\n",
    "\n",
    "## Note: you could do this in one go:\n",
    "# spec = wx.spectrum(.....).xspec_load()"
   ]
  },
  {
   "cell_type": "markdown",
   "id": "dc4d70ce",
   "metadata": {},
   "source": [
    "Note: if the loading seems to take a very long time, check your path and filenames. If a filename is not correct, xspec does not crash, it just stalls. "
   ]
  },
  {
   "cell_type": "markdown",
   "id": "58750dd8",
   "metadata": {},
   "source": [
    "Now, we are ready to plot the spectrum. We can use the xspec plotting system to do so, but it might be not very intuitive to novice Xspec users (it is means to emulate the way the command line tools work). \n",
    "\n",
    "Therefore `wrap_xspec` provides some classes and functions to gather the plotting data so that they can be used with matplotlib instead.\n",
    "\n",
    "WARNING: pyXspec is not very pythonic, in the sense that the 'state' of Xspec is **global**. Therefore, you cannot for example have multiple spectra loaded into different variables and use them independently. For example, if we wanted to use the pyXspec plotting function, we would use `xspec.Plot()` and as you can see, it does not refer to the `spec` in which we loaded the spectrum!\n",
    "\n"
   ]
  },
  {
   "cell_type": "code",
   "execution_count": 3,
   "id": "47c51feb",
   "metadata": {},
   "outputs": [],
   "source": [
    "xspec.Plot.device = \"/xs\"\n",
    "xspec.Plot.xAxis = \"keV\"\n",
    "#xspec.Plot.show()\n",
    "xspec.Plot(\"data\")\n",
    "#plt.plot(xspec.Plot.x(1), xspec.Plot.y(1))"
   ]
  },
  {
   "cell_type": "code",
   "execution_count": null,
   "id": "c47653bf",
   "metadata": {},
   "outputs": [
    {
     "data": {
      "text/plain": [
       "<ErrorbarContainer object of 3 artists>"
      ]
     },
     "execution_count": 18,
     "metadata": {},
     "output_type": "execute_result"
    },
    {
     "data": {
      "image/png": "[encoded data removed]",
      "text/plain": [
       "<Figure size 640x480 with 1 Axes>"
      ]
     },
     "metadata": {},
     "output_type": "display_data"
    }
   ],
   "source": [
    "fig, ax = plt.subplots(1,1)\n",
    "\n",
    "ax.errorbar(spec1.noticed, spec1.values, yerr=spec1.variance,\n",
    "            fmt='o', ms=2)"
   ]
  },
  {
   "cell_type": "code",
   "execution_count": null,
   "id": "0452351a",
   "metadata": {},
   "outputs": [
    {
     "name": "stdout",
     "output_type": "stream",
     "text": [
      "(0.0, 0.0, 0.0, 0.0, 0.0, 0.0, 0.0, 0.0, 0.0, 0.0, 0.0, 0.0, 0.0, 0.0, 0.0, 0.0, 0.0, 0.0, 0.0, 0.0, 0.0, 4.496170312184572e-09, 5.722398579144001e-09, 4.904913067837715e-09, 5.313655823490858e-09, 6.131141334797144e-09, 4.904913067837715e-09, 5.722398579144001e-09, 4.087427556531429e-09, 4.496170312184572e-09, 5.722398579144001e-09, 4.496170312184572e-09, 4.087427556531429e-09, 5.722398579144001e-09, 4.496170312184572e-09, 4.087427556531429e-09, 5.313655823490858e-09, 4.496170312184572e-09, 4.087427556531429e-09, 4.087427556531429e-09, 5.313655823490858e-09, 4.904913067837715e-09, 5.313655823490858e-09, 4.904913067837715e-09, 4.496170312184572e-09, 4.087427556531429e-09, 4.904913067837715e-09, 4.087427556531429e-09, 4.904913067837715e-09, 4.496170312184572e-09, 4.087427556531429e-09, 4.496170312184572e-09, 4.087427556531429e-09, 4.496170312184572e-09, 4.087427556531429e-09, 4.087427556531429e-09, 4.087427556531429e-09, 4.087427556531429e-09, 8.174855113062859e-10, 0.0, 0.0, 0.0, 0.0, 4.0874275565314295e-10, 0.0, 0.0, 4.0874275565314295e-10, 0.0, 0.0, 0.0, 0.0, 0.0, 0.0, 0.0, 4.0874275565314295e-10, 0.0, 4.0874275565314295e-10, 0.0, 0.0, 0.0, 0.0, 0.0, 0.0, 0.0, 0.0, 0.0, 0.0, 0.0, 0.0, 0.0, 0.0, 4.0874275565314295e-10, 0.0, 0.0, 0.0, 0.0, 0.0, 0.0, 0.0, 0.0, 0.0, 0.0, 0.0, 0.0, 0.0, 0.0, 0.0, 0.0, 0.0, 0.0, 0.0, 0.0, 0.0, 0.0, 0.0, 0.0, 0.0, 0.0, 0.0, 0.0, 0.0, 0.0, 0.0, 0.0, 0.0, 0.0, 0.0, 0.0, 0.0, 0.0, 0.0, 0.0, 0.0, 0.0, 0.0, 0.0, 0.0, 0.0, 0.0, 0.0, 0.0, 0.0, 0.0, 0.0, 0.0, 4.0874275565314295e-10, 0.0, 0.0, 0.0, 0.0, 0.0, 0.0, 0.0, 0.0, 0.0, 0.0, 0.0, 0.0, 0.0, 0.0, 0.0, 0.0, 0.0, 0.0, 0.0, 0.0, 0.0, 0.0, 0.0, 0.0, 0.0, 0.0, 0.0, 0.0, 0.0, 0.0, 0.0, 0.0, 0.0, 0.0, 0.0, 0.0, 0.0, 0.0, 0.0, 0.0, 0.0, 0.0, 0.0, 0.0, 0.0, 0.0, 0.0, 0.0, 0.0, 0.0, 0.0, 4.0874275565314295e-10, 0.0, 0.0, 0.0, 0.0, 0.0, 0.0, 0.0, 0.0, 0.0, 0.0, 0.0, 0.0, 0.0, 0.0, 0.0, 0.0, 0.0, 4.0874275565314295e-10, 0.0, 0.0, 0.0, 0.0, 0.0, 0.0, 0.0, 0.0, 0.0, 0.0, 0.0, 0.0, 0.0, 0.0, 0.0, 0.0, 0.0, 0.0, 0.0, 0.0, 0.0, 0.0, 0.0, 0.0, 0.0, 0.0, 0.0, 0.0, 0.0, 0.0, 0.0, 0.0, 0.0, 0.0, 0.0, 0.0, 0.0, 0.0, 0.0, 0.0, 0.0, 0.0, 0.0, 0.0, 0.0, 0.0, 0.0, 0.0, 0.0, 0.0, 0.0, 0.0, 0.0, 0.0, 0.0, 0.0, 0.0, 0.0, 0.0, 0.0, 0.0, 0.0, 0.0, 0.0, 0.0, 0.0, 0.0, 0.0, 0.0, 8.174855113062859e-10, 0.0, 0.0, 0.0, 0.0, 0.0, 0.0, 0.0, 0.0, 0.0, 0.0, 0.0, 0.0, 0.0, 0.0, 0.0, 0.0, 0.0, 0.0, 0.0, 0.0, 0.0, 0.0, 0.0, 0.0, 0.0, 0.0, 0.0, 0.0, 0.0, 0.0, 0.0, 0.0, 0.0, 0.0, 0.0, 0.0, 0.0, 0.0, 0.0, 0.0, 0.0, 0.0, 0.0, 0.0, 0.0, 0.0, 0.0, 0.0, 0.0, 0.0, 0.0, 0.0, 0.0, 0.0, 0.0, 0.0, 0.0, 0.0, 0.0, 0.0, 0.0, 0.0, 0.0, 0.0, 0.0, 0.0, 0.0, 0.0, 0.0, 0.0, 0.0, 0.0, 0.0, 0.0, 0.0, 0.0, 0.0, 0.0, 0.0, 0.0, 4.0874275565314295e-10, 0.0, 0.0, 4.0874275565314295e-10, 0.0, 0.0, 0.0, 0.0, 0.0, 0.0, 0.0, 0.0, 0.0, 0.0, 0.0, 0.0, 0.0, 0.0, 0.0, 0.0, 0.0, 0.0, 0.0, 0.0, 0.0, 0.0, 0.0, 0.0, 0.0, 0.0, 0.0, 0.0, 0.0)\n"
     ]
    }
   ],
   "source": [
    "print(spec1.variance)"
   ]
  },
  {
   "cell_type": "markdown",
   "id": "0ecf9d5b",
   "metadata": {},
   "source": []
  }
 ],
 "metadata": {
  "kernelspec": {
   "display_name": "Python 3 (ipykernel)",
   "language": "python",
   "name": "python3"
  },
  "language_info": {
   "codemirror_mode": {
    "name": "ipython",
    "version": 3
   },
   "file_extension": ".py",
   "mimetype": "text/x-python",
   "name": "python",
   "nbconvert_exporter": "python",
   "pygments_lexer": "ipython3",
   "version": "3.9.18"
  }
 },
 "nbformat": 4,
 "nbformat_minor": 5
}
